{
 "cells": [
  {
   "cell_type": "code",
   "execution_count": 0,
   "metadata": {
    "application/vnd.databricks.v1+cell": {
     "cellMetadata": {
      "byteLimit": 2048000,
      "rowLimit": 10000
     },
     "inputWidgets": {},
     "nuid": "48540f48-0395-4e69-a2f3-1d4b5a241c54",
     "showTitle": false,
     "tableResultSettingsMap": {},
     "title": ""
    }
   },
   "outputs": [
    {
     "output_type": "display_data",
     "data": {
      "text/html": [
       "<div class = \"ansiout\">\n",
       "This module provides various utilities for users to interact with the rest of Databricks.\n",
       "  <h3></h3><b>credentials: DatabricksCredentialUtils</b> -> Utilities for interacting with credentials within notebooks<br /><b>data: DataUtils</b> -> Utilities for understanding and interacting with datasets (EXPERIMENTAL)<br /><b>fs: DbfsUtils</b> -> Manipulates the Databricks filesystem (DBFS) from the console<br /><b>jobs: JobsUtils</b> -> Utilities for leveraging jobs features<br /><b>library: LibraryUtils</b> -> Utilities for session isolated libraries<br /><b>meta: MetaUtils</b> -> Methods to hook into the compiler (EXPERIMENTAL)<br /><b>notebook: NotebookUtils</b> -> Utilities for the control flow of a notebook (EXPERIMENTAL)<br /><b>preview: Preview</b> -> Utilities under preview category<br /><b>secrets: SecretUtils</b> -> Provides utilities for leveraging secrets within notebooks<br /><b>widgets: WidgetsUtils</b> -> Methods to create and get bound value of input widgets inside notebooks<br /><br /></div>"
      ]
     },
     "metadata": {},
     "output_type": "display_data"
    }
   ],
   "source": [
    "dbutils.help()"
   ]
  },
  {
   "cell_type": "code",
   "execution_count": 0,
   "metadata": {
    "application/vnd.databricks.v1+cell": {
     "cellMetadata": {
      "byteLimit": 2048000,
      "rowLimit": 10000
     },
     "inputWidgets": {},
     "nuid": "4792bd74-4214-4da7-9596-d316f32adb51",
     "showTitle": false,
     "tableResultSettingsMap": {},
     "title": ""
    }
   },
   "outputs": [
    {
     "output_type": "display_data",
     "data": {
      "text/html": [
       "<div class = \"ansiout\">\n",
       "The notebook module.\n",
       "  <h3></h3><b>exit(value: String): void</b> -> This method lets you exit a notebook with a value<br /><b>run(path: String, timeoutSeconds: int, arguments: Map): String</b> -> This method runs a notebook and returns its exit value<br /><br /></div>"
      ]
     },
     "metadata": {},
     "output_type": "display_data"
    }
   ],
   "source": [
    "dbutils.notebook.help()"
   ]
  },
  {
   "cell_type": "code",
   "execution_count": 0,
   "metadata": {
    "application/vnd.databricks.v1+cell": {
     "cellMetadata": {
      "byteLimit": 2048000,
      "rowLimit": 10000
     },
     "inputWidgets": {},
     "nuid": "3931c6a7-dcfd-492a-8383-7791e6ca3999",
     "showTitle": false,
     "tableResultSettingsMap": {},
     "title": ""
    },
    "jupyter": {
     "outputs_hidden": true
    }
   },
   "outputs": [],
   "source": [
    "# dbutils.notebook.run('Worker Notebook',60)  \n",
    "# Will fail in Databricks Community"
   ]
  },
  {
   "cell_type": "code",
   "execution_count": 0,
   "metadata": {
    "application/vnd.databricks.v1+cell": {
     "cellMetadata": {
      "byteLimit": 2048000,
      "rowLimit": 10000
     },
     "inputWidgets": {},
     "nuid": "5621949e-8d19-49f9-aaff-cba4b1153c00",
     "showTitle": false,
     "tableResultSettingsMap": {},
     "title": ""
    },
    "jupyter": {
     "outputs_hidden": true
    }
   },
   "outputs": [],
   "source": [
    "# dbutils.notebook.run('/Users/jason.kryske@gmail.com/Delta Tables/Delta Table Time Travel',60) \n",
    "#  Will Fail in Databricks Community"
   ]
  },
  {
   "cell_type": "code",
   "execution_count": 0,
   "metadata": {
    "application/vnd.databricks.v1+cell": {
     "cellMetadata": {
      "byteLimit": 2048000,
      "rowLimit": 10000
     },
     "inputWidgets": {},
     "nuid": "70efbe22-8ff6-4ba9-aff4-a668f1a15f3a",
     "showTitle": false,
     "tableResultSettingsMap": {},
     "title": ""
    }
   },
   "outputs": [
    {
     "output_type": "stream",
     "name": "stdout",
     "output_type": "stream",
     "text": [
      "Could not run notebook in Databricks community\n"
     ]
    }
   ],
   "source": [
    "try:\n",
    "    dbutils.notebook.run('Worker Notebook',60) # Since errors stop the notebook, you can use Python's native error handling\n",
    "except:\n",
    "    print('Could not run notebook in Databricks community')"
   ]
  },
  {
   "cell_type": "code",
   "execution_count": 0,
   "metadata": {
    "application/vnd.databricks.v1+cell": {
     "cellMetadata": {
      "byteLimit": 2048000,
      "rowLimit": 10000
     },
     "inputWidgets": {},
     "nuid": "988680c8-c7d5-4474-8c2d-5bd48cb26328",
     "showTitle": false,
     "tableResultSettingsMap": {},
     "title": ""
    }
   },
   "outputs": [
    {
     "output_type": "display_data",
     "data": {
      "text/html": [
       "<div class = \"ansiout\"><b>dbutils.widgets</b> provides utilities for working with notebook widgets. You can create\n",
       "different types of widgets and get their bound value.\n",
       "\n",
       "For more info about a method, use <b>dbutils.widgets.help(\"methodName\")</b>.\n",
       "    <h3></h3><b>combobox(name: String, defaultValue: String, choices: Seq, label: String): void</b> -> Creates a combobox input widget with a given name, default value and choices<br /><b>dropdown(name: String, defaultValue: String, choices: Seq, label: String): void</b> -> Creates a dropdown input widget a with given name, default value and choices<br /><b>get(name: String): String</b> -> Retrieves current value of an input widget<br /><b>getAll: Map</b> -> Retrieves a mapping of all current values of the input widgets<br /><b>getArgument(name: String, optional: String): String</b> -> (DEPRECATED) Equivalent to get<br /><b>multiselect(name: String, defaultValue: String, choices: Seq, label: String): void</b> -> Creates a multiselect input widget with a given name, default value and choices<br /><b>remove(name: String): void</b> -> Removes an input widget from the notebook<br /><b>removeAll: void</b> -> Removes all widgets in the notebook<br /><b>text(name: String, defaultValue: String, label: String): void</b> -> Creates a text input widget with a given name and default value<br /><br /></div>"
      ]
     },
     "metadata": {},
     "output_type": "display_data"
    }
   ],
   "source": [
    "dbutils.widgets.help()"
   ]
  },
  {
   "cell_type": "code",
   "execution_count": 0,
   "metadata": {
    "application/vnd.databricks.v1+cell": {
     "cellMetadata": {
      "byteLimit": 2048000,
      "rowLimit": 10000
     },
     "inputWidgets": {},
     "nuid": "31bdf050-433a-45e9-bb55-b942878fa313",
     "showTitle": false,
     "tableResultSettingsMap": {},
     "title": ""
    }
   },
   "outputs": [],
   "source": [
    "dbutils.widgets.text('input_widget','','provide an input')"
   ]
  },
  {
   "cell_type": "code",
   "execution_count": 0,
   "metadata": {
    "application/vnd.databricks.v1+cell": {
     "cellMetadata": {
      "byteLimit": 2048000,
      "rowLimit": 10000
     },
     "inputWidgets": {},
     "nuid": "c29a54b9-bc0d-4f99-9eab-86b134a62512",
     "showTitle": false,
     "tableResultSettingsMap": {},
     "title": ""
    }
   },
   "outputs": [
    {
     "output_type": "execute_result",
     "data": {
      "text/plain": [
       "'hello'"
      ]
     },
     "execution_count": 8,
     "metadata": {},
     "output_type": "execute_result"
    }
   ],
   "source": [
    "dbutils.widgets.get('input_widget')"
   ]
  },
  {
   "cell_type": "code",
   "execution_count": 0,
   "metadata": {
    "application/vnd.databricks.v1+cell": {
     "cellMetadata": {
      "byteLimit": 2048000,
      "rowLimit": 10000
     },
     "inputWidgets": {},
     "nuid": "8a9b5a0c-0de1-4808-a25d-e438e4c385d5",
     "showTitle": false,
     "tableResultSettingsMap": {},
     "title": ""
    }
   },
   "outputs": [
    {
     "output_type": "stream",
     "name": "stdout",
     "output_type": "stream",
     "text": [
      "Could not run notebook in Databricks community\n"
     ]
    }
   ],
   "source": [
    "try:\n",
    "    dbutils.notebook.run('Worker Notebook',60, {'intput_widget':'From Master Notebook','argument2':'second string'}) #Updates the widget created in previous cells\n",
    "    print('widget updated')\n",
    "except:\n",
    "    print('Could not run notebook in Databricks community')"
   ]
  },
  {
   "cell_type": "code",
   "execution_count": 0,
   "metadata": {
    "application/vnd.databricks.v1+cell": {
     "cellMetadata": {
      "byteLimit": 2048000,
      "rowLimit": 10000
     },
     "inputWidgets": {},
     "nuid": "2ef3b547-e122-4f7e-a489-8fd3ea95bae4",
     "showTitle": false,
     "tableResultSettingsMap": {},
     "title": ""
    }
   },
   "outputs": [
    {
     "output_type": "display_data",
     "data": {
      "text/html": [
       "<style scoped>\n",
       "  .table-result-container {\n",
       "    max-height: 300px;\n",
       "    overflow: auto;\n",
       "  }\n",
       "  table, th, td {\n",
       "    border: 1px solid black;\n",
       "    border-collapse: collapse;\n",
       "  }\n",
       "  th, td {\n",
       "    padding: 5px;\n",
       "  }\n",
       "  th {\n",
       "    text-align: left;\n",
       "  }\n",
       "</style><div class='table-result-container'><table class='table-result'><thead style='background-color: white'><tr><th>id</th><th>created_at</th><th>user_id</th><th>product_id</th><th>quantity</th><th>unit_price</th></tr></thead><tbody><tr><td>2059</td><td>2017-07-20T21:15:35.567Z</td><td>286</td><td>120</td><td>46</td><td>55.670000</td></tr><tr><td>1857</td><td>2018-04-10T21:26:19.545Z</td><td>261</td><td>147</td><td>23</td><td>44.430000</td></tr><tr><td>1769</td><td>2017-03-04T18:05:05.784Z</td><td>246</td><td>155</td><td>13</td><td>29.180000</td></tr><tr><td>1685</td><td>2018-08-25T10:35:43.551Z</td><td>236</td><td>52</td><td>10</td><td>69.120000</td></tr><tr><td>1638</td><td>2018-06-07T14:00:00.269Z</td><td>233</td><td>136</td><td>58</td><td>70.140000</td></tr></tbody></table></div>"
      ]
     },
     "metadata": {
      "application/vnd.databricks.v1+output": {
       "addedWidgets": {},
       "aggData": [],
       "aggError": "",
       "aggOverflow": false,
       "aggSchema": [],
       "aggSeriesLimitReached": false,
       "aggType": "",
       "arguments": {},
       "columnCustomDisplayInfos": {},
       "data": [
        [
         2059,
         "2017-07-20T21:15:35.567Z",
         286,
         120,
         46,
         "55.670000"
        ],
        [
         1857,
         "2018-04-10T21:26:19.545Z",
         261,
         147,
         23,
         "44.430000"
        ],
        [
         1769,
         "2017-03-04T18:05:05.784Z",
         246,
         155,
         13,
         "29.180000"
        ],
        [
         1685,
         "2018-08-25T10:35:43.551Z",
         236,
         52,
         10,
         "69.120000"
        ],
        [
         1638,
         "2018-06-07T14:00:00.269Z",
         233,
         136,
         58,
         "70.140000"
        ]
       ],
       "datasetInfos": [],
       "dbfsResultPath": null,
       "isJsonSchema": true,
       "metadata": {},
       "overflow": false,
       "plotOptions": {
        "customPlotOptions": {},
        "displayType": "table",
        "pivotAggregation": null,
        "pivotColumns": null,
        "xColumns": null,
        "yColumns": null
       },
       "removedWidgets": [],
       "schema": [
        {
         "metadata": "{}",
         "name": "id",
         "type": "\"long\""
        },
        {
         "metadata": "{}",
         "name": "created_at",
         "type": "\"timestamp\""
        },
        {
         "metadata": "{}",
         "name": "user_id",
         "type": "\"long\""
        },
        {
         "metadata": "{}",
         "name": "product_id",
         "type": "\"long\""
        },
        {
         "metadata": "{}",
         "name": "quantity",
         "type": "\"integer\""
        },
        {
         "metadata": "{}",
         "name": "unit_price",
         "type": "\"decimal(34,6)\""
        }
       ],
       "type": "table"
      }
     },
     "output_type": "display_data"
    }
   ],
   "source": [
    "orders = (spark.read.table('orders_db.orders_bronze'))\n",
    "orders.limit(5).display()"
   ]
  },
  {
   "cell_type": "code",
   "execution_count": 0,
   "metadata": {
    "application/vnd.databricks.v1+cell": {
     "cellMetadata": {
      "byteLimit": 2048000,
      "rowLimit": 10000
     },
     "inputWidgets": {},
     "nuid": "430196ad-b353-4eb7-9ab6-b3dcd256e191",
     "showTitle": false,
     "tableResultSettingsMap": {},
     "title": ""
    }
   },
   "outputs": [],
   "source": [
    "def total_order_amount(price, quantity):\n",
    "    return price * quantity"
   ]
  },
  {
   "cell_type": "code",
   "execution_count": 0,
   "metadata": {
    "application/vnd.databricks.v1+cell": {
     "cellMetadata": {
      "byteLimit": 2048000,
      "rowLimit": 10000
     },
     "inputWidgets": {},
     "nuid": "bce1a999-eeda-47de-80e5-52454f703864",
     "showTitle": false,
     "tableResultSettingsMap": {},
     "title": ""
    }
   },
   "outputs": [],
   "source": [
    "orders_with_total = orders.withColumn('order_total',total_order_amount(orders.unit_price, orders.quantity))"
   ]
  },
  {
   "cell_type": "code",
   "execution_count": 0,
   "metadata": {
    "application/vnd.databricks.v1+cell": {
     "cellMetadata": {
      "byteLimit": 2048000,
      "rowLimit": 10000
     },
     "inputWidgets": {},
     "nuid": "6572e6f0-34e3-4180-a8e4-fcdebca8cd20",
     "showTitle": false,
     "tableResultSettingsMap": {},
     "title": ""
    }
   },
   "outputs": [
    {
     "output_type": "display_data",
     "data": {
      "text/html": [
       "<style scoped>\n",
       "  .table-result-container {\n",
       "    max-height: 300px;\n",
       "    overflow: auto;\n",
       "  }\n",
       "  table, th, td {\n",
       "    border: 1px solid black;\n",
       "    border-collapse: collapse;\n",
       "  }\n",
       "  th, td {\n",
       "    padding: 5px;\n",
       "  }\n",
       "  th {\n",
       "    text-align: left;\n",
       "  }\n",
       "</style><div class='table-result-container'><table class='table-result'><thead style='background-color: white'><tr><th>id</th><th>created_at</th><th>user_id</th><th>product_id</th><th>quantity</th><th>unit_price</th><th>order_total</th></tr></thead><tbody><tr><td>2059</td><td>2017-07-20T21:15:35.567Z</td><td>286</td><td>120</td><td>46</td><td>55.670000</td><td>2560.820000</td></tr><tr><td>1857</td><td>2018-04-10T21:26:19.545Z</td><td>261</td><td>147</td><td>23</td><td>44.430000</td><td>1021.890000</td></tr><tr><td>1769</td><td>2017-03-04T18:05:05.784Z</td><td>246</td><td>155</td><td>13</td><td>29.180000</td><td>379.340000</td></tr><tr><td>1685</td><td>2018-08-25T10:35:43.551Z</td><td>236</td><td>52</td><td>10</td><td>69.120000</td><td>691.200000</td></tr><tr><td>1638</td><td>2018-06-07T14:00:00.269Z</td><td>233</td><td>136</td><td>58</td><td>70.140000</td><td>4068.120000</td></tr></tbody></table></div>"
      ]
     },
     "metadata": {
      "application/vnd.databricks.v1+output": {
       "addedWidgets": {},
       "aggData": [],
       "aggError": "",
       "aggOverflow": false,
       "aggSchema": [],
       "aggSeriesLimitReached": false,
       "aggType": "",
       "arguments": {},
       "columnCustomDisplayInfos": {},
       "data": [
        [
         2059,
         "2017-07-20T21:15:35.567Z",
         286,
         120,
         46,
         "55.670000",
         "2560.820000"
        ],
        [
         1857,
         "2018-04-10T21:26:19.545Z",
         261,
         147,
         23,
         "44.430000",
         "1021.890000"
        ],
        [
         1769,
         "2017-03-04T18:05:05.784Z",
         246,
         155,
         13,
         "29.180000",
         "379.340000"
        ],
        [
         1685,
         "2018-08-25T10:35:43.551Z",
         236,
         52,
         10,
         "69.120000",
         "691.200000"
        ],
        [
         1638,
         "2018-06-07T14:00:00.269Z",
         233,
         136,
         58,
         "70.140000",
         "4068.120000"
        ]
       ],
       "datasetInfos": [],
       "dbfsResultPath": null,
       "isJsonSchema": true,
       "metadata": {},
       "overflow": false,
       "plotOptions": {
        "customPlotOptions": {},
        "displayType": "table",
        "pivotAggregation": null,
        "pivotColumns": null,
        "xColumns": null,
        "yColumns": null
       },
       "removedWidgets": [],
       "schema": [
        {
         "metadata": "{}",
         "name": "id",
         "type": "\"long\""
        },
        {
         "metadata": "{}",
         "name": "created_at",
         "type": "\"timestamp\""
        },
        {
         "metadata": "{}",
         "name": "user_id",
         "type": "\"long\""
        },
        {
         "metadata": "{}",
         "name": "product_id",
         "type": "\"long\""
        },
        {
         "metadata": "{}",
         "name": "quantity",
         "type": "\"integer\""
        },
        {
         "metadata": "{}",
         "name": "unit_price",
         "type": "\"decimal(34,6)\""
        },
        {
         "metadata": "{}",
         "name": "order_total",
         "type": "\"decimal(38,6)\""
        }
       ],
       "type": "table"
      }
     },
     "output_type": "display_data"
    }
   ],
   "source": [
    "orders_with_total.limit(5).display()"
   ]
  },
  {
   "cell_type": "code",
   "execution_count": 0,
   "metadata": {
    "application/vnd.databricks.v1+cell": {
     "cellMetadata": {
      "byteLimit": 2048000,
      "rowLimit": 10000
     },
     "inputWidgets": {},
     "nuid": "7725651c-cb2d-465f-a97c-9ece02ee8e63",
     "showTitle": false,
     "tableResultSettingsMap": {},
     "title": ""
    }
   },
   "outputs": [],
   "source": [
    "%run \"/Users/jason.kryske@gmail.com/Modularize code and Notebooks/orders_module\" \n",
    "\n"
   ]
  },
  {
   "cell_type": "code",
   "execution_count": 0,
   "metadata": {
    "application/vnd.databricks.v1+cell": {
     "cellMetadata": {
      "byteLimit": 2048000,
      "rowLimit": 10000
     },
     "inputWidgets": {},
     "nuid": "739f64bd-63bc-4951-a561-b4b1343ee061",
     "showTitle": false,
     "tableResultSettingsMap": {},
     "title": ""
    }
   },
   "outputs": [],
   "source": [
    "# Use at the start of notebook so all functions are immediately usable"
   ]
  },
  {
   "cell_type": "markdown",
   "metadata": {
    "application/vnd.databricks.v1+cell": {
     "cellMetadata": {
      "byteLimit": 2048000,
      "rowLimit": 10000
     },
     "inputWidgets": {},
     "nuid": "239ae06a-e936-4c29-9830-0f4b7e152f14",
     "showTitle": false,
     "tableResultSettingsMap": {},
     "title": ""
    }
   },
   "source": [
    "\n",
    "Can use ./orders_module as the path because it is in the same folder. <br>\n",
    "Can also use ../orders_module as the relative path from the parent folder.\n"
   ]
  },
  {
   "cell_type": "code",
   "execution_count": 0,
   "metadata": {
    "application/vnd.databricks.v1+cell": {
     "cellMetadata": {
      "byteLimit": 2048000,
      "rowLimit": 10000
     },
     "inputWidgets": {},
     "nuid": "caed4206-3413-4151-ba7f-f233272c41f7",
     "showTitle": false,
     "tableResultSettingsMap": {},
     "title": ""
    }
   },
   "outputs": [],
   "source": [
    "orders_with_total_2 = orders.withColumn('order_total',total_order_amount_from_other_nb(orders.unit_price, orders.quantity))"
   ]
  },
  {
   "cell_type": "code",
   "execution_count": 0,
   "metadata": {
    "application/vnd.databricks.v1+cell": {
     "cellMetadata": {
      "byteLimit": 2048000,
      "rowLimit": 10000
     },
     "inputWidgets": {},
     "nuid": "5e94239c-f3ca-4668-b7e8-37c0ae3f0e8a",
     "showTitle": false,
     "tableResultSettingsMap": {},
     "title": ""
    }
   },
   "outputs": [
    {
     "output_type": "display_data",
     "data": {
      "text/html": [
       "<style scoped>\n",
       "  .table-result-container {\n",
       "    max-height: 300px;\n",
       "    overflow: auto;\n",
       "  }\n",
       "  table, th, td {\n",
       "    border: 1px solid black;\n",
       "    border-collapse: collapse;\n",
       "  }\n",
       "  th, td {\n",
       "    padding: 5px;\n",
       "  }\n",
       "  th {\n",
       "    text-align: left;\n",
       "  }\n",
       "</style><div class='table-result-container'><table class='table-result'><thead style='background-color: white'><tr><th>id</th><th>created_at</th><th>user_id</th><th>product_id</th><th>quantity</th><th>unit_price</th><th>order_total</th></tr></thead><tbody><tr><td>2059</td><td>2017-07-20T21:15:35.567Z</td><td>286</td><td>120</td><td>46</td><td>55.670000</td><td>2560.820000</td></tr><tr><td>1857</td><td>2018-04-10T21:26:19.545Z</td><td>261</td><td>147</td><td>23</td><td>44.430000</td><td>1021.890000</td></tr><tr><td>1769</td><td>2017-03-04T18:05:05.784Z</td><td>246</td><td>155</td><td>13</td><td>29.180000</td><td>379.340000</td></tr><tr><td>1685</td><td>2018-08-25T10:35:43.551Z</td><td>236</td><td>52</td><td>10</td><td>69.120000</td><td>691.200000</td></tr><tr><td>1638</td><td>2018-06-07T14:00:00.269Z</td><td>233</td><td>136</td><td>58</td><td>70.140000</td><td>4068.120000</td></tr></tbody></table></div>"
      ]
     },
     "metadata": {
      "application/vnd.databricks.v1+output": {
       "addedWidgets": {},
       "aggData": [],
       "aggError": "",
       "aggOverflow": false,
       "aggSchema": [],
       "aggSeriesLimitReached": false,
       "aggType": "",
       "arguments": {},
       "columnCustomDisplayInfos": {},
       "data": [
        [
         2059,
         "2017-07-20T21:15:35.567Z",
         286,
         120,
         46,
         "55.670000",
         "2560.820000"
        ],
        [
         1857,
         "2018-04-10T21:26:19.545Z",
         261,
         147,
         23,
         "44.430000",
         "1021.890000"
        ],
        [
         1769,
         "2017-03-04T18:05:05.784Z",
         246,
         155,
         13,
         "29.180000",
         "379.340000"
        ],
        [
         1685,
         "2018-08-25T10:35:43.551Z",
         236,
         52,
         10,
         "69.120000",
         "691.200000"
        ],
        [
         1638,
         "2018-06-07T14:00:00.269Z",
         233,
         136,
         58,
         "70.140000",
         "4068.120000"
        ]
       ],
       "datasetInfos": [],
       "dbfsResultPath": null,
       "isJsonSchema": true,
       "metadata": {},
       "overflow": false,
       "plotOptions": {
        "customPlotOptions": {},
        "displayType": "table",
        "pivotAggregation": null,
        "pivotColumns": null,
        "xColumns": null,
        "yColumns": null
       },
       "removedWidgets": [],
       "schema": [
        {
         "metadata": "{}",
         "name": "id",
         "type": "\"long\""
        },
        {
         "metadata": "{}",
         "name": "created_at",
         "type": "\"timestamp\""
        },
        {
         "metadata": "{}",
         "name": "user_id",
         "type": "\"long\""
        },
        {
         "metadata": "{}",
         "name": "product_id",
         "type": "\"long\""
        },
        {
         "metadata": "{}",
         "name": "quantity",
         "type": "\"integer\""
        },
        {
         "metadata": "{}",
         "name": "unit_price",
         "type": "\"decimal(34,6)\""
        },
        {
         "metadata": "{}",
         "name": "order_total",
         "type": "\"decimal(38,6)\""
        }
       ],
       "type": "table"
      }
     },
     "output_type": "display_data"
    }
   ],
   "source": [
    "orders_with_total_2.limit(5).display()"
   ]
  },
  {
   "cell_type": "code",
   "execution_count": 0,
   "metadata": {
    "application/vnd.databricks.v1+cell": {
     "cellMetadata": {
      "byteLimit": 2048000,
      "rowLimit": 10000
     },
     "inputWidgets": {},
     "nuid": "4725788b-1b07-429e-af0d-83bd838c413a",
     "showTitle": false,
     "tableResultSettingsMap": {},
     "title": ""
    }
   },
   "outputs": [],
   "source": [
    "orders.createTempView('orders_sql_view')"
   ]
  },
  {
   "cell_type": "code",
   "execution_count": 0,
   "metadata": {
    "application/vnd.databricks.v1+cell": {
     "cellMetadata": {
      "byteLimit": 2048000,
      "implicitDf": true,
      "rowLimit": 10000
     },
     "inputWidgets": {},
     "nuid": "a70ee0ab-0ede-4dbc-87ab-704c1ac9dc66",
     "showTitle": false,
     "tableResultSettingsMap": {},
     "title": ""
    }
   },
   "outputs": [
    {
     "output_type": "display_data",
     "data": {
      "text/html": [
       "<style scoped>\n",
       "  .table-result-container {\n",
       "    max-height: 300px;\n",
       "    overflow: auto;\n",
       "  }\n",
       "  table, th, td {\n",
       "    border: 1px solid black;\n",
       "    border-collapse: collapse;\n",
       "  }\n",
       "  th, td {\n",
       "    padding: 5px;\n",
       "  }\n",
       "  th {\n",
       "    text-align: left;\n",
       "  }\n",
       "</style><div class='table-result-container'><table class='table-result'><thead style='background-color: white'><tr><th>id</th><th>created_at</th><th>user_id</th><th>product_id</th><th>quantity</th><th>unit_price</th></tr></thead><tbody><tr><td>2059</td><td>2017-07-20T21:15:35.567Z</td><td>286</td><td>120</td><td>46</td><td>55.670000</td></tr><tr><td>1857</td><td>2018-04-10T21:26:19.545Z</td><td>261</td><td>147</td><td>23</td><td>44.430000</td></tr><tr><td>1769</td><td>2017-03-04T18:05:05.784Z</td><td>246</td><td>155</td><td>13</td><td>29.180000</td></tr><tr><td>1685</td><td>2018-08-25T10:35:43.551Z</td><td>236</td><td>52</td><td>10</td><td>69.120000</td></tr><tr><td>1638</td><td>2018-06-07T14:00:00.269Z</td><td>233</td><td>136</td><td>58</td><td>70.140000</td></tr></tbody></table></div>"
      ]
     },
     "metadata": {
      "application/vnd.databricks.v1+output": {
       "addedWidgets": {},
       "aggData": [],
       "aggError": "",
       "aggOverflow": false,
       "aggSchema": [],
       "aggSeriesLimitReached": false,
       "aggType": "",
       "arguments": {},
       "columnCustomDisplayInfos": {},
       "data": [
        [
         2059,
         "2017-07-20T21:15:35.567Z",
         286,
         120,
         46,
         "55.670000"
        ],
        [
         1857,
         "2018-04-10T21:26:19.545Z",
         261,
         147,
         23,
         "44.430000"
        ],
        [
         1769,
         "2017-03-04T18:05:05.784Z",
         246,
         155,
         13,
         "29.180000"
        ],
        [
         1685,
         "2018-08-25T10:35:43.551Z",
         236,
         52,
         10,
         "69.120000"
        ],
        [
         1638,
         "2018-06-07T14:00:00.269Z",
         233,
         136,
         58,
         "70.140000"
        ]
       ],
       "datasetInfos": [],
       "dbfsResultPath": null,
       "isJsonSchema": true,
       "metadata": {
        "createTempViewForImplicitDf": true,
        "dataframeName": "_sqldf",
        "executionCount": 52
       },
       "overflow": false,
       "plotOptions": {
        "customPlotOptions": {},
        "displayType": "table",
        "pivotAggregation": null,
        "pivotColumns": null,
        "xColumns": null,
        "yColumns": null
       },
       "removedWidgets": [],
       "schema": [
        {
         "metadata": "{}",
         "name": "id",
         "type": "\"long\""
        },
        {
         "metadata": "{}",
         "name": "created_at",
         "type": "\"timestamp\""
        },
        {
         "metadata": "{}",
         "name": "user_id",
         "type": "\"long\""
        },
        {
         "metadata": "{}",
         "name": "product_id",
         "type": "\"long\""
        },
        {
         "metadata": "{}",
         "name": "quantity",
         "type": "\"integer\""
        },
        {
         "metadata": "{}",
         "name": "unit_price",
         "type": "\"decimal(34,6)\""
        }
       ],
       "type": "table"
      }
     },
     "output_type": "display_data"
    }
   ],
   "source": [
    "%sql\n",
    "select * from orders_sql_view\n",
    "limit 5"
   ]
  },
  {
   "cell_type": "markdown",
   "metadata": {
    "application/vnd.databricks.v1+cell": {
     "cellMetadata": {},
     "inputWidgets": {},
     "nuid": "9fe68031-aee4-4893-9754-4921e21cafdc",
     "showTitle": false,
     "tableResultSettingsMap": {},
     "title": ""
    }
   },
   "source": [
    "**Using Python Functions on SQL table views**"
   ]
  },
  {
   "cell_type": "code",
   "execution_count": 0,
   "metadata": {
    "application/vnd.databricks.v1+cell": {
     "cellMetadata": {
      "byteLimit": 2048000,
      "rowLimit": 10000
     },
     "inputWidgets": {},
     "nuid": "2408c46c-4525-4d6c-8fc6-02445c3fa0b6",
     "showTitle": false,
     "tableResultSettingsMap": {},
     "title": ""
    }
   },
   "outputs": [
    {
     "output_type": "execute_result",
     "data": {
      "text/plain": [
       "<function __main__.total_order_amount_from_other_nb(price, quantity)>"
      ]
     },
     "execution_count": 53,
     "metadata": {},
     "output_type": "execute_result"
    }
   ],
   "source": [
    "spark.udf.register('total_order_amount_from_other_nb',total_order_amount_from_other_nb) # first argumentwill be the functions name (I'm keeping the same one)/ The second is the function"
   ]
  },
  {
   "cell_type": "code",
   "execution_count": 0,
   "metadata": {
    "application/vnd.databricks.v1+cell": {
     "cellMetadata": {
      "byteLimit": 2048000,
      "implicitDf": true,
      "rowLimit": 10000
     },
     "inputWidgets": {},
     "nuid": "1f542dc2-a630-474a-9274-227c7283b469",
     "showTitle": false,
     "tableResultSettingsMap": {},
     "title": ""
    }
   },
   "outputs": [
    {
     "output_type": "display_data",
     "data": {
      "text/html": [
       "<style scoped>\n",
       "  .table-result-container {\n",
       "    max-height: 300px;\n",
       "    overflow: auto;\n",
       "  }\n",
       "  table, th, td {\n",
       "    border: 1px solid black;\n",
       "    border-collapse: collapse;\n",
       "  }\n",
       "  th, td {\n",
       "    padding: 5px;\n",
       "  }\n",
       "  th {\n",
       "    text-align: left;\n",
       "  }\n",
       "</style><div class='table-result-container'><table class='table-result'><thead style='background-color: white'><tr><th>id</th><th>created_at</th><th>user_id</th><th>product_id</th><th>quantity</th><th>unit_price</th><th>order_total_sql</th></tr></thead><tbody><tr><td>2059</td><td>2017-07-20T21:15:35.567Z</td><td>286</td><td>120</td><td>46</td><td>55.670000</td><td>2560.82</td></tr><tr><td>1857</td><td>2018-04-10T21:26:19.545Z</td><td>261</td><td>147</td><td>23</td><td>44.430000</td><td>1021.89</td></tr><tr><td>1769</td><td>2017-03-04T18:05:05.784Z</td><td>246</td><td>155</td><td>13</td><td>29.180000</td><td>379.34</td></tr><tr><td>1685</td><td>2018-08-25T10:35:43.551Z</td><td>236</td><td>52</td><td>10</td><td>69.120000</td><td>691.2</td></tr><tr><td>1638</td><td>2018-06-07T14:00:00.269Z</td><td>233</td><td>136</td><td>58</td><td>70.140000</td><td>4068.12</td></tr></tbody></table></div>"
      ]
     },
     "metadata": {
      "application/vnd.databricks.v1+output": {
       "addedWidgets": {},
       "aggData": [],
       "aggError": "",
       "aggOverflow": false,
       "aggSchema": [],
       "aggSeriesLimitReached": false,
       "aggType": "",
       "arguments": {},
       "columnCustomDisplayInfos": {},
       "data": [
        [
         2059,
         "2017-07-20T21:15:35.567Z",
         286,
         120,
         46,
         "55.670000",
         2560.82
        ],
        [
         1857,
         "2018-04-10T21:26:19.545Z",
         261,
         147,
         23,
         "44.430000",
         1021.89
        ],
        [
         1769,
         "2017-03-04T18:05:05.784Z",
         246,
         155,
         13,
         "29.180000",
         379.34
        ],
        [
         1685,
         "2018-08-25T10:35:43.551Z",
         236,
         52,
         10,
         "69.120000",
         691.2
        ],
        [
         1638,
         "2018-06-07T14:00:00.269Z",
         233,
         136,
         58,
         "70.140000",
         4068.12
        ]
       ],
       "datasetInfos": [],
       "dbfsResultPath": null,
       "isJsonSchema": true,
       "metadata": {
        "createTempViewForImplicitDf": true,
        "dataframeName": "_sqldf",
        "executionCount": 58
       },
       "overflow": false,
       "plotOptions": {
        "customPlotOptions": {},
        "displayType": "table",
        "pivotAggregation": null,
        "pivotColumns": null,
        "xColumns": null,
        "yColumns": null
       },
       "removedWidgets": [],
       "schema": [
        {
         "metadata": "{}",
         "name": "id",
         "type": "\"long\""
        },
        {
         "metadata": "{}",
         "name": "created_at",
         "type": "\"timestamp\""
        },
        {
         "metadata": "{}",
         "name": "user_id",
         "type": "\"long\""
        },
        {
         "metadata": "{}",
         "name": "product_id",
         "type": "\"long\""
        },
        {
         "metadata": "{}",
         "name": "quantity",
         "type": "\"integer\""
        },
        {
         "metadata": "{}",
         "name": "unit_price",
         "type": "\"decimal(34,6)\""
        },
        {
         "metadata": "{}",
         "name": "order_total_sql",
         "type": "\"double\""
        }
       ],
       "type": "table"
      }
     },
     "output_type": "display_data"
    }
   ],
   "source": [
    "%sql\n",
    "select \n",
    "  *,\n",
    "  round(total_order_amount_from_other_nb(unit_price,quantity),2) as order_total_sql\n",
    "from \n",
    "  orders_sql_view\n",
    "limit 5"
   ]
  }
 ],
 "metadata": {
  "application/vnd.databricks.v1+notebook": {
   "computePreferences": null,
   "dashboards": [],
   "environmentMetadata": {
    "base_environment": "",
    "environment_version": "1"
   },
   "inputWidgetPreferences": null,
   "language": "python",
   "notebookMetadata": {
    "mostRecentlyExecutedCommandWithImplicitDF": {
     "commandId": 614452332311845,
     "dataframes": [
      "_sqldf"
     ]
    },
    "pythonIndentUnit": 4
   },
   "notebookName": "Master Notebook",
   "widgets": {
    "input_widget": {
     "currentValue": "hello",
     "nuid": "a3b16574-8329-4558-9793-512b8d9d32d0",
     "typedWidgetInfo": {
      "autoCreated": false,
      "defaultValue": "",
      "label": "provide an input",
      "name": "input_widget",
      "options": {
       "widgetDisplayType": "Text",
       "validationRegex": null
      },
      "parameterDataType": "String"
     },
     "widgetInfo": {
      "widgetType": "text",
      "defaultValue": "",
      "label": "provide an input",
      "name": "input_widget",
      "options": {
       "widgetType": "text",
       "autoCreated": false,
       "validationRegex": null
      }
     }
    }
   }
  }
 },
 "nbformat": 4,
 "nbformat_minor": 0
}